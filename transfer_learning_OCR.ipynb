{
  "nbformat": 4,
  "nbformat_minor": 0,
  "metadata": {
    "colab": {
      "name": "transfer_learning_OCR.ipynb",
      "provenance": [],
      "collapsed_sections": []
    },
    "kernelspec": {
      "name": "python3",
      "display_name": "Python 3"
    },
    "accelerator": "GPU"
  },
  "cells": [
    {
      "cell_type": "markdown",
      "metadata": {
        "id": "9gYIECc8tlJu",
        "colab_type": "text"
      },
      "source": [
        "# OCR com transfer learning usando a MobileNetV2\n",
        "\n",
        "Por: Augusto Ribeiro Castro - 9771421\n",
        "\n"
      ]
    },
    {
      "cell_type": "markdown",
      "metadata": {
        "id": "rGMRonVAt8I4",
        "colab_type": "text"
      },
      "source": [
        "Importanto bibliotecas úteis"
      ]
    },
    {
      "cell_type": "code",
      "metadata": {
        "id": "beUGp0-wNo_l",
        "colab_type": "code",
        "colab": {}
      },
      "source": [
        "from __future__ import absolute_import, division, print_function, unicode_literals\n",
        "\n",
        "import matplotlib.pylab as plt\n",
        "\n",
        "import tensorflow as tf\n",
        "import numpy as np\n",
        "\n",
        "!pip install -q -U tensorflow_hub\n",
        "import tensorflow_hub as hub\n",
        "\n",
        "from tensorflow.keras import layers"
      ],
      "execution_count": 0,
      "outputs": []
    },
    {
      "cell_type": "markdown",
      "metadata": {
        "id": "Oz8VLHzluPhx",
        "colab_type": "text"
      },
      "source": [
        "Download do dataset, descompactação dos arquivos e colocação dos dados dentro de uma pasta persistente na seção do Colab\n",
        "\n",
        "### Download dos caracteres em imagens\n",
        "\n",
        "\n",
        "Apenas as imagens caracterizadas como boas serão utilizadas"
      ]
    },
    {
      "cell_type": "code",
      "metadata": {
        "id": "I86hRKatwm11",
        "colab_type": "code",
        "colab": {}
      },
      "source": [
        "_URL = 'http://www.ee.surrey.ac.uk/CVSSP/demos/chars74k/EnglishImg.tgz'\n",
        "\n",
        "path_to_zip = tf.keras.utils.get_file('EnglishImg.tgz', origin=_URL, extract=True)\n",
        "\n",
        "import os\n",
        "\n",
        "PATH = os.path.join(os.path.dirname(path_to_zip), 'English/Img/GoodImg/Bmp')\n",
        "\n",
        "import shutil\n",
        "\n",
        "if(os.path.isdir('/content/Img')):\n",
        "  shutil.rmtree('/content/Img')\n",
        "  \n",
        "\n",
        "shutil.move(PATH, '/content/Img')\n",
        "\n",
        "\n",
        "#os.unlink('/content/Img/all.txt~')\n",
        "\n",
        "data_root = '/content/Img'"
      ],
      "execution_count": 0,
      "outputs": []
    },
    {
      "cell_type": "markdown",
      "metadata": {
        "id": "oDfXrJLvunBJ",
        "colab_type": "text"
      },
      "source": [
        "Renomeando as pastas para os nomes dos caracteres, que serão usados como labels:"
      ]
    },
    {
      "cell_type": "code",
      "metadata": {
        "id": "A26C8t26g6bS",
        "colab_type": "code",
        "colab": {}
      },
      "source": [
        "labels_num = ['0', '1', '2', '3', '4', '5', '6', '7', '8', '9']\n",
        "labels_upperletters = ['Upper_A', 'Upper_B', 'Upper_C', 'Upper_D', 'Upper_E', 'Upper_F', 'Upper_G', 'Upper_H', 'Upper_I', 'Upper_J', 'Upper_K', 'Upper_L', 'Upper_M', 'Upper_N', 'Upper_O', 'Upper_P', 'Upper_Q', 'Upper_R', 'Upper_S', 'Upper_T', 'Upper_U', 'Upper_V', 'Upper_W', 'Upper_X', 'Upper_Y', 'Upper_Z']\n",
        "labels_lowerletters = ['Lower_a', 'Lower_b', 'Lower_c', 'Lower_d', 'Lower_e', 'Lower_f', 'Lower_g', 'Lower_h', 'Lower_i', 'Lower_j', 'Lower_k', 'Lower_l', 'Lower_m', 'Lower_n', 'Lower_o', 'Lower_p', 'Lower_q', 'Lower_r', 'Lower_s', 'Lower_t', 'Lower_u', 'Lower_v', 'Lower_w', 'Lower_x', 'Lower_y', 'Lower_z']\n",
        "\n",
        "name_dirs = os.listdir('/content/Img')\n",
        "name_dirs.sort()\n",
        "\n",
        "for i in range (len(name_dirs)):\n",
        "  if i < len(labels_num):\n",
        "    os.rename(data_root+'/'+name_dirs[i], data_root+'/'+labels_num[i])\n",
        "  elif i-10 < 26:\n",
        "    os.rename(data_root+'/'+name_dirs[i],  data_root+'/'+labels_upperletters[i-10])\n",
        "  else:\n",
        "    os.rename(data_root+'/'+name_dirs[i],  data_root+'/'+labels_lowerletters[i-36])\n",
        "\n",
        "\n"
      ],
      "execution_count": 0,
      "outputs": []
    },
    {
      "cell_type": "markdown",
      "metadata": {
        "id": "DEg8u1RI3aEe",
        "colab_type": "text"
      },
      "source": [
        "### Download dos caracteres escritos a mão"
      ]
    },
    {
      "cell_type": "code",
      "metadata": {
        "id": "2IUguskKyyV4",
        "colab_type": "code",
        "colab": {}
      },
      "source": [
        "_URL = 'http://www.ee.surrey.ac.uk/CVSSP/demos/chars74k/EnglishHnd.tgz'\n",
        "\n",
        "path_to_zip = tf.keras.utils.get_file('EnglishHnd.tgz', origin=_URL, extract=True)\n",
        "\n",
        "import os\n",
        "\n",
        "PATH = os.path.join(os.path.dirname(path_to_zip), 'English/Hnd/Img')\n",
        "\n",
        "import shutil\n",
        "\n",
        "if(os.path.isdir('/content/Hnd')):\n",
        "  shutil.rmtree('/content/Hnd')\n",
        "  \n",
        "\n",
        "shutil.move(PATH, '/content/Hnd')\n",
        "\n",
        "\n",
        "os.unlink('/content/Hnd/all.txt~')\n",
        "\n",
        "data_root = '/content/Hnd'"
      ],
      "execution_count": 0,
      "outputs": []
    },
    {
      "cell_type": "markdown",
      "metadata": {
        "id": "1Pjj76iC3jNE",
        "colab_type": "text"
      },
      "source": [
        "Formatação do diretório de letras escritas a mão com os labels corretos"
      ]
    },
    {
      "cell_type": "code",
      "metadata": {
        "id": "WZKHNS2PzYUD",
        "colab_type": "code",
        "colab": {}
      },
      "source": [
        "name_dirs = os.listdir('/content/Hnd')\n",
        "name_dirs.sort()\n",
        "\n",
        "for i in range (len(name_dirs)):\n",
        "  if i < len(labels_num):\n",
        "    os.rename(data_root+'/'+name_dirs[i], data_root+'/'+labels_num[i])\n",
        "  elif i-10 < 26:\n",
        "    os.rename(data_root+'/'+name_dirs[i],  data_root+'/'+labels_upperletters[i-10])\n",
        "  else:\n",
        "    os.rename(data_root+'/'+name_dirs[i],  data_root+'/'+labels_lowerletters[i-36])\n",
        "\n"
      ],
      "execution_count": 0,
      "outputs": []
    },
    {
      "cell_type": "markdown",
      "metadata": {
        "id": "r-2FF0_W3pPK",
        "colab_type": "text"
      },
      "source": [
        "Mover arquivos dos diretórios de imagens escritas à mão para as respectivas pastas dentro das imagens (merge dos datasets)"
      ]
    },
    {
      "cell_type": "code",
      "metadata": {
        "id": "_5XzbBtS0RK4",
        "colab_type": "code",
        "colab": {}
      },
      "source": [
        "hnd_dirs = os.listdir('/content/Hnd')\n",
        "img_dirs = os.listdir('/content/Img')\n",
        "\n",
        "for _dir in hnd_dirs:\n",
        "  dir_files = os.listdir('/content/Hnd/'+_dir)\n",
        "  for file in dir_files:\n",
        "    shutil.move('/content/Hnd/'+_dir+'/'+file, '/content/Img/'+_dir+'/'+file)\n",
        "  \n",
        "  \n",
        "data_root = '/content/Img'"
      ],
      "execution_count": 0,
      "outputs": []
    },
    {
      "cell_type": "markdown",
      "metadata": {
        "id": "T9yN6F5j84jD",
        "colab_type": "text"
      },
      "source": [
        "### Download dos caracteres baseados em fontes de computador"
      ]
    },
    {
      "cell_type": "code",
      "metadata": {
        "id": "nSZFp2cj83pa",
        "colab_type": "code",
        "colab": {}
      },
      "source": [
        "_URL = 'http://www.ee.surrey.ac.uk/CVSSP/demos/chars74k/EnglishFnt.tgz'\n",
        "\n",
        "path_to_zip = tf.keras.utils.get_file('EnglishFnt.tgz', origin=_URL, extract=True)\n",
        "\n",
        "import os\n",
        "\n",
        "PATH = os.path.join(os.path.dirname(path_to_zip), 'English/Fnt/')\n",
        "\n",
        "import shutil\n",
        "\n",
        "if(os.path.isdir('/content/Fnt')):\n",
        "  shutil.rmtree('/content/Fnt')\n",
        "  \n",
        "\n",
        "shutil.move(PATH, '/content/Fnt')\n",
        "\n",
        "\n",
        "data_root = '/content/Fnt'"
      ],
      "execution_count": 0,
      "outputs": []
    },
    {
      "cell_type": "code",
      "metadata": {
        "id": "B_NiaKr184FT",
        "colab_type": "code",
        "colab": {}
      },
      "source": [
        "name_dirs = os.listdir('/content/Fnt')\n",
        "name_dirs.sort()\n",
        "\n",
        "for i in range (len(name_dirs)):\n",
        "  if i < len(labels_num):\n",
        "    os.rename(data_root+'/'+name_dirs[i], data_root+'/'+labels_num[i])\n",
        "  elif i-10 < 26:\n",
        "    os.rename(data_root+'/'+name_dirs[i],  data_root+'/'+labels_upperletters[i-10])\n",
        "  else:\n",
        "    os.rename(data_root+'/'+name_dirs[i],  data_root+'/'+labels_lowerletters[i-36])\n"
      ],
      "execution_count": 0,
      "outputs": []
    },
    {
      "cell_type": "code",
      "metadata": {
        "id": "QuhCvoJM84Q9",
        "colab_type": "code",
        "colab": {}
      },
      "source": [
        "hnd_dirs = os.listdir('/content/Fnt')\n",
        "img_dirs = os.listdir('/content/Img')\n",
        "\n",
        "for _dir in hnd_dirs:\n",
        "  dir_files = os.listdir('/content/Fnt/'+_dir)\n",
        "  for file in dir_files:\n",
        "    shutil.move('/content/Fnt/'+_dir+'/'+file, '/content/Img/'+_dir+'/'+file)\n",
        "  \n",
        "  \n",
        "data_root = '/content/Img'"
      ],
      "execution_count": 0,
      "outputs": []
    },
    {
      "cell_type": "markdown",
      "metadata": {
        "id": "u2Jg7a4Ku1qD",
        "colab_type": "text"
      },
      "source": [
        "### Carregamento dos dados e divisão em lotes: 70% do conjunto para treino e 30% para validação"
      ]
    },
    {
      "cell_type": "markdown",
      "metadata": {
        "id": "71jWJz34wvli",
        "colab_type": "text"
      },
      "source": [
        "Função que converte de RGB para escala de cinza e replica o resultado para os três canais de cor"
      ]
    },
    {
      "cell_type": "code",
      "metadata": {
        "id": "h3e0aP-GwuO2",
        "colab_type": "code",
        "colab": {}
      },
      "source": [
        "def pre_process(rgb):\n",
        "    r, g, b = rgb[:,:,0], rgb[:,:,1], rgb[:,:,2]\n",
        "    gray = 0.2989 * r + 0.5870 * g + 0.1140 * b\n",
        "  \n",
        "    rgb[:, :, 0] = gray\n",
        "    rgb[:, :, 1] = gray\n",
        "    rgb[:, :, 2] = gray\n",
        "    return rgb\n",
        "  "
      ],
      "execution_count": 0,
      "outputs": []
    },
    {
      "cell_type": "code",
      "metadata": {
        "id": "nJIJPjg5OtB8",
        "colab_type": "code",
        "outputId": "c8ea374f-987a-4543-a561-116061cecce0",
        "colab": {
          "base_uri": "https://localhost:8080/",
          "height": 52
        }
      },
      "source": [
        "IMAGE_SHAPE = (224, 224)\n",
        "\n",
        "\n",
        "image_generator = tf.keras.preprocessing.image.ImageDataGenerator(rescale=1/255, validation_split = 0.3, preprocessing_function=pre_process)\n",
        "image_data = image_generator.flow_from_directory(str(data_root), target_size=IMAGE_SHAPE, subset = 'training')\n",
        "image_validation = image_generator.flow_from_directory(str(data_root), target_size=IMAGE_SHAPE, subset = 'validation')"
      ],
      "execution_count": 0,
      "outputs": [
        {
          "output_type": "stream",
          "text": [
            "Found 46500 images belonging to 62 classes.\n",
            "Found 19902 images belonging to 62 classes.\n"
          ],
          "name": "stdout"
        }
      ]
    },
    {
      "cell_type": "code",
      "metadata": {
        "id": "evHfYM-rOwm5",
        "colab_type": "code",
        "outputId": "75e87fce-133e-4e5d-f0a4-9fec6a48154a",
        "colab": {
          "base_uri": "https://localhost:8080/",
          "height": 52
        }
      },
      "source": [
        "for image_batch, label_batch in image_data:\n",
        "  print(\"Image batch shape: \", image_batch.shape)\n",
        "  print(\"Label batch shape: \", label_batch.shape)\n",
        "  break\n"
      ],
      "execution_count": 0,
      "outputs": [
        {
          "output_type": "stream",
          "text": [
            "Image batch shape:  (32, 224, 224, 3)\n",
            "Label batch shape:  (32, 62)\n"
          ],
          "name": "stdout"
        }
      ]
    },
    {
      "cell_type": "markdown",
      "metadata": {
        "id": "hYPfdqwpu40x",
        "colab_type": "text"
      },
      "source": [
        "Download do classificador sem a camada final para o transfer learning"
      ]
    },
    {
      "cell_type": "code",
      "metadata": {
        "id": "YEK2ikTBO92s",
        "colab_type": "code",
        "colab": {}
      },
      "source": [
        "feature_extractor_url = \"https://tfhub.dev/google/tf2-preview/mobilenet_v2/feature_vector/2\" #@param {type:\"string\"}\n"
      ],
      "execution_count": 0,
      "outputs": []
    },
    {
      "cell_type": "code",
      "metadata": {
        "id": "gSaMWXgNPAxr",
        "colab_type": "code",
        "outputId": "af06e782-f5f0-4e20-c653-d470ca0b3b79",
        "colab": {
          "base_uri": "https://localhost:8080/",
          "height": 141
        }
      },
      "source": [
        "feature_extractor_layer = hub.KerasLayer(feature_extractor_url,\n",
        "                                         input_shape=(224,224,3))\n"
      ],
      "execution_count": 0,
      "outputs": [
        {
          "output_type": "stream",
          "text": [
            "WARNING:tensorflow:From /usr/local/lib/python3.6/dist-packages/tensorflow_core/python/ops/resource_variable_ops.py:1781: calling BaseResourceVariable.__init__ (from tensorflow.python.ops.resource_variable_ops) with constraint is deprecated and will be removed in a future version.\n",
            "Instructions for updating:\n",
            "If using Keras pass *_constraint arguments to layers.\n"
          ],
          "name": "stdout"
        },
        {
          "output_type": "stream",
          "text": [
            "WARNING:tensorflow:From /usr/local/lib/python3.6/dist-packages/tensorflow_core/python/ops/resource_variable_ops.py:1781: calling BaseResourceVariable.__init__ (from tensorflow.python.ops.resource_variable_ops) with constraint is deprecated and will be removed in a future version.\n",
            "Instructions for updating:\n",
            "If using Keras pass *_constraint arguments to layers.\n"
          ],
          "name": "stderr"
        }
      ]
    },
    {
      "cell_type": "code",
      "metadata": {
        "id": "Hig2i9r1PILP",
        "colab_type": "code",
        "outputId": "d6a9ee72-c9bf-4bae-93da-ce9ee2bed7a1",
        "colab": {
          "base_uri": "https://localhost:8080/",
          "height": 34
        }
      },
      "source": [
        "feature_batch = feature_extractor_layer(image_batch)\n",
        "print(feature_batch.shape)\n"
      ],
      "execution_count": 0,
      "outputs": [
        {
          "output_type": "stream",
          "text": [
            "(32, 1280)\n"
          ],
          "name": "stdout"
        }
      ]
    },
    {
      "cell_type": "code",
      "metadata": {
        "id": "kBXl_4PCPLXV",
        "colab_type": "code",
        "colab": {}
      },
      "source": [
        "feature_extractor_layer.trainable = False\n"
      ],
      "execution_count": 0,
      "outputs": []
    },
    {
      "cell_type": "markdown",
      "metadata": {
        "id": "wVNrC_oqvKJ7",
        "colab_type": "text"
      },
      "source": [
        "Adicionando camada densa ao final da camada da MobileNetV2 de extração de características\n",
        "\n",
        "Foi escolhida como função de ativação a 'softmax' conforme feito no tutorial e a camada densa possui o mesmo tamanho do número de classes de caracteres\n",
        "\n",
        "A função softmax recebe como entrada um vetor de valores reais e normaliza-os em uma distribuição de probabilidades proporcional à exponencial do valor de entrada"
      ]
    },
    {
      "cell_type": "code",
      "metadata": {
        "id": "jdf1Mk7DPO2V",
        "colab_type": "code",
        "outputId": "e12ef50c-183f-46a0-f6cb-711d9e44cfbd",
        "colab": {
          "base_uri": "https://localhost:8080/",
          "height": 295
        }
      },
      "source": [
        "model = tf.keras.Sequential([\n",
        "  feature_extractor_layer,\n",
        "  layers.Dense(512, activation='relu'),\n",
        "  layers.Dropout(0.2),\n",
        "  layers.Dense(image_data.num_classes, activation='softmax')\n",
        "])\n",
        "\n",
        "model.summary()\n",
        "\n"
      ],
      "execution_count": 0,
      "outputs": [
        {
          "output_type": "stream",
          "text": [
            "Model: \"sequential\"\n",
            "_________________________________________________________________\n",
            "Layer (type)                 Output Shape              Param #   \n",
            "=================================================================\n",
            "keras_layer (KerasLayer)     (None, 1280)              2257984   \n",
            "_________________________________________________________________\n",
            "dense (Dense)                (None, 512)               655872    \n",
            "_________________________________________________________________\n",
            "dropout (Dropout)            (None, 512)               0         \n",
            "_________________________________________________________________\n",
            "dense_1 (Dense)              (None, 62)                31806     \n",
            "=================================================================\n",
            "Total params: 2,945,662\n",
            "Trainable params: 687,678\n",
            "Non-trainable params: 2,257,984\n",
            "_________________________________________________________________\n"
          ],
          "name": "stdout"
        }
      ]
    },
    {
      "cell_type": "code",
      "metadata": {
        "id": "6s_RC6asPQ4w",
        "colab_type": "code",
        "outputId": "90beb040-4303-44a5-8ae6-3212b27d38de",
        "colab": {
          "base_uri": "https://localhost:8080/",
          "height": 34
        }
      },
      "source": [
        "predictions = model(image_batch)\n",
        "\n",
        "predictions.shape"
      ],
      "execution_count": 0,
      "outputs": [
        {
          "output_type": "execute_result",
          "data": {
            "text/plain": [
              "TensorShape([Dimension(32), Dimension(62)])"
            ]
          },
          "metadata": {
            "tags": []
          },
          "execution_count": 18
        }
      ]
    },
    {
      "cell_type": "code",
      "metadata": {
        "id": "kZIzn3ONPSul",
        "colab_type": "code",
        "colab": {}
      },
      "source": [
        "model.compile(\n",
        "  optimizer=tf.keras.optimizers.Adam(),\n",
        "  loss='categorical_crossentropy',\n",
        "  metrics=['acc'])\n"
      ],
      "execution_count": 0,
      "outputs": []
    },
    {
      "cell_type": "code",
      "metadata": {
        "id": "SUF0ii-RPUxd",
        "colab_type": "code",
        "colab": {}
      },
      "source": [
        "class CollectBatchStats(tf.keras.callbacks.Callback):\n",
        "  def __init__(self):\n",
        "    self.batch_losses = []\n",
        "    self.batch_acc = []\n",
        "\n",
        "  def on_train_batch_end(self, batch, logs=None):\n",
        "    self.batch_losses.append(logs['loss'])\n",
        "    self.batch_acc.append(logs['acc'])\n",
        "    self.model.reset_metrics()\n"
      ],
      "execution_count": 0,
      "outputs": []
    },
    {
      "cell_type": "markdown",
      "metadata": {
        "id": "8zswhQTPvZA5",
        "colab_type": "text"
      },
      "source": [
        "Treinamento da rede"
      ]
    },
    {
      "cell_type": "code",
      "metadata": {
        "id": "asAeWng7PbAO",
        "colab_type": "code",
        "outputId": "f0b0b720-0432-42e5-dc26-2b311d909dea",
        "colab": {
          "base_uri": "https://localhost:8080/",
          "height": 538
        }
      },
      "source": [
        "_epochs = 10\n",
        "steps_per_epoch = np.ceil(image_data.samples/image_data.batch_size)\n",
        "\n",
        "batch_stats_callback = CollectBatchStats()\n",
        "\n",
        "history = model.fit_generator(image_data, epochs=_epochs,\n",
        "                              steps_per_epoch=steps_per_epoch,\n",
        "                              callbacks = [batch_stats_callback], validation_data=image_validation)\n"
      ],
      "execution_count": 0,
      "outputs": [
        {
          "output_type": "stream",
          "text": [
            "Epoch 1/10\n",
            "1453/1454 [============================>.] - ETA: 0s - loss: 1.0793 - acc: 0.7500Epoch 1/10\n",
            "1454/1454 [==============================] - 193s 133ms/step - loss: 1.0789 - acc: 0.8125 - val_loss: 0.6780 - val_acc: 0.7880\n",
            "Epoch 2/10\n",
            "1453/1454 [============================>.] - ETA: 0s - loss: 0.6326 - acc: 0.8750Epoch 1/10\n",
            "1454/1454 [==============================] - 186s 128ms/step - loss: 0.6327 - acc: 0.7188 - val_loss: 0.6169 - val_acc: 0.8008\n",
            "Epoch 3/10\n",
            "1453/1454 [============================>.] - ETA: 0s - loss: 0.5194 - acc: 0.8125Epoch 1/10\n",
            "1454/1454 [==============================] - 186s 128ms/step - loss: 0.5194 - acc: 0.7500 - val_loss: 0.5959 - val_acc: 0.8036\n",
            "Epoch 4/10\n",
            "1453/1454 [============================>.] - ETA: 0s - loss: 0.4452 - acc: 0.8125Epoch 1/10\n",
            "1454/1454 [==============================] - 187s 128ms/step - loss: 0.4452 - acc: 0.8125 - val_loss: 0.5839 - val_acc: 0.8096\n",
            "Epoch 5/10\n",
            "1453/1454 [============================>.] - ETA: 0s - loss: 0.4084 - acc: 0.8438Epoch 1/10\n",
            "1454/1454 [==============================] - 186s 128ms/step - loss: 0.4086 - acc: 0.7812 - val_loss: 0.5711 - val_acc: 0.8271\n",
            "Epoch 6/10\n",
            "1453/1454 [============================>.] - ETA: 0s - loss: 0.3679 - acc: 0.8750Epoch 1/10\n",
            "1454/1454 [==============================] - 186s 128ms/step - loss: 0.3679 - acc: 0.7812 - val_loss: 0.5878 - val_acc: 0.8240\n",
            "Epoch 7/10\n",
            "1453/1454 [============================>.] - ETA: 0s - loss: 0.3433 - acc: 0.8125Epoch 1/10\n",
            "1454/1454 [==============================] - 186s 128ms/step - loss: 0.3434 - acc: 0.8438 - val_loss: 0.5882 - val_acc: 0.8208\n",
            "Epoch 8/10\n",
            "1453/1454 [============================>.] - ETA: 0s - loss: 0.3143 - acc: 0.9375Epoch 1/10\n",
            "1454/1454 [==============================] - 186s 128ms/step - loss: 0.3142 - acc: 0.9062 - val_loss: 0.5908 - val_acc: 0.8366\n",
            "Epoch 9/10\n",
            "1453/1454 [============================>.] - ETA: 0s - loss: 0.2973 - acc: 0.9062Epoch 1/10\n",
            "1454/1454 [==============================] - 186s 128ms/step - loss: 0.2975 - acc: 0.8750 - val_loss: 0.6226 - val_acc: 0.8285\n",
            "Epoch 10/10\n",
            "1453/1454 [============================>.] - ETA: 0s - loss: 0.2859 - acc: 0.8438Epoch 1/10\n",
            "1454/1454 [==============================] - 187s 128ms/step - loss: 0.2859 - acc: 0.8438 - val_loss: 0.6084 - val_acc: 0.8286\n"
          ],
          "name": "stdout"
        }
      ]
    },
    {
      "cell_type": "code",
      "metadata": {
        "id": "_ExPA65kPe0r",
        "colab_type": "code",
        "outputId": "585751af-2979-4502-d100-274916abc0d5",
        "colab": {
          "base_uri": "https://localhost:8080/",
          "height": 300
        }
      },
      "source": [
        "plt.figure()\n",
        "plt.ylabel(\"Loss\")\n",
        "plt.xlabel(\"Training Steps\")\n",
        "plt.ylim([0,2])\n",
        "plt.plot(batch_stats_callback.batch_losses)\n"
      ],
      "execution_count": 0,
      "outputs": [
        {
          "output_type": "execute_result",
          "data": {
            "text/plain": [
              "[<matplotlib.lines.Line2D at 0x7f7ec093feb8>]"
            ]
          },
          "metadata": {
            "tags": []
          },
          "execution_count": 22
        },
        {
          "output_type": "display_data",
          "data": {
            "image/png": "[encoded data removed]",
            "text/plain": [
              "<Figure size 432x288 with 1 Axes>"
            ]
          },
          "metadata": {
            "tags": []
          }
        }
      ]
    },
    {
      "cell_type": "code",
      "metadata": {
        "id": "UjyzzNOpPk6w",
        "colab_type": "code",
        "outputId": "6b79102d-785d-4259-8592-9defe4dc6e6f",
        "colab": {
          "base_uri": "https://localhost:8080/",
          "height": 300
        }
      },
      "source": [
        "plt.figure()\n",
        "plt.ylabel(\"Accuracy\")\n",
        "plt.xlabel(\"Training Steps\")\n",
        "plt.ylim([0,1])\n",
        "plt.plot(batch_stats_callback.batch_acc)\n"
      ],
      "execution_count": 0,
      "outputs": [
        {
          "output_type": "execute_result",
          "data": {
            "text/plain": [
              "[<matplotlib.lines.Line2D at 0x7f7ec08d61d0>]"
            ]
          },
          "metadata": {
            "tags": []
          },
          "execution_count": 23
        },
        {
          "output_type": "display_data",
          "data": {
            "image/png": "[encoded data removed]",
            "text/plain": [
              "<Figure size 432x288 with 1 Axes>"
            ]
          },
          "metadata": {
            "tags": []
          }
        }
      ]
    },
    {
      "cell_type": "code",
      "metadata": {
        "id": "eQ7wa1RRS2aR",
        "colab_type": "code",
        "outputId": "726378ae-71c0-4822-ef82-abdc50764232",
        "colab": {
          "base_uri": "https://localhost:8080/",
          "height": 499
        }
      },
      "source": [
        "acc = history.history['acc']\n",
        "val_acc = history.history['val_acc']\n",
        "\n",
        "loss = history.history['loss']\n",
        "val_loss = history.history['val_loss']\n",
        "\n",
        "epochs = _epochs\n",
        "epochs_range = range(epochs)\n",
        "\n",
        "plt.figure(figsize=(8, 8))\n",
        "plt.subplot(1, 2, 1)\n",
        "plt.plot(epochs_range, acc, label='Training acc')\n",
        "plt.plot(epochs_range, val_acc, label='Validation acc')\n",
        "plt.legend(loc='lower right')\n",
        "plt.title('Training and Validation acc')\n",
        "\n",
        "plt.subplot(1, 2, 2)\n",
        "plt.plot(epochs_range, loss, label='Training Loss')\n",
        "plt.plot(epochs_range, val_loss, label='Validation Loss')\n",
        "plt.legend(loc='upper right')\n",
        "plt.title('Training and Validation Loss')\n",
        "plt.show()"
      ],
      "execution_count": 0,
      "outputs": [
        {
          "output_type": "display_data",
          "data": {
            "image/png": "[encoded data removed]",
            "text/plain": [
              "<Figure size 576x576 with 2 Axes>"
            ]
          },
          "metadata": {
            "tags": []
          }
        }
      ]
    },
    {
      "cell_type": "markdown",
      "metadata": {
        "id": "ryGaGcjFdZdJ",
        "colab_type": "text"
      },
      "source": [
        "## Visualizar previsões sobre conjunto de treino"
      ]
    },
    {
      "cell_type": "code",
      "metadata": {
        "id": "LZcoOrZ7QcXN",
        "colab_type": "code",
        "outputId": "90fbdd93-3dff-4ef0-d493-2609a54f0ff5",
        "colab": {
          "base_uri": "https://localhost:8080/",
          "height": 191
        }
      },
      "source": [
        "class_names = sorted(image_data.class_indices.items(), key=lambda pair:pair[1])\n",
        "class_names = np.array([key.title() for key, value in class_names])\n",
        "class_names"
      ],
      "execution_count": 0,
      "outputs": [
        {
          "output_type": "execute_result",
          "data": {
            "text/plain": [
              "array(['0', '1', '2', '3', '4', '5', '6', '7', '8', '9', 'Lower_A',\n",
              "       'Lower_B', 'Lower_C', 'Lower_D', 'Lower_E', 'Lower_F', 'Lower_G',\n",
              "       'Lower_H', 'Lower_I', 'Lower_J', 'Lower_K', 'Lower_L', 'Lower_M',\n",
              "       'Lower_N', 'Lower_O', 'Lower_P', 'Lower_Q', 'Lower_R', 'Lower_S',\n",
              "       'Lower_T', 'Lower_U', 'Lower_V', 'Lower_W', 'Lower_X', 'Lower_Y',\n",
              "       'Lower_Z', 'Upper_A', 'Upper_B', 'Upper_C', 'Upper_D', 'Upper_E',\n",
              "       'Upper_F', 'Upper_G', 'Upper_H', 'Upper_I', 'Upper_J', 'Upper_K',\n",
              "       'Upper_L', 'Upper_M', 'Upper_N', 'Upper_O', 'Upper_P', 'Upper_Q',\n",
              "       'Upper_R', 'Upper_S', 'Upper_T', 'Upper_U', 'Upper_V', 'Upper_W',\n",
              "       'Upper_X', 'Upper_Y', 'Upper_Z'], dtype='<U7')"
            ]
          },
          "metadata": {
            "tags": []
          },
          "execution_count": 25
        }
      ]
    },
    {
      "cell_type": "code",
      "metadata": {
        "id": "SiOvsBtbQg6v",
        "colab_type": "code",
        "colab": {}
      },
      "source": [
        "predicted_batch = model.predict(image_batch)\n",
        "predicted_id = np.argmax(predicted_batch, axis=-1)\n",
        "predicted_label_batch = class_names[predicted_id]\n"
      ],
      "execution_count": 0,
      "outputs": []
    },
    {
      "cell_type": "code",
      "metadata": {
        "id": "WZ4sMU98Qi1e",
        "colab_type": "code",
        "outputId": "c31b68de-c832-471a-ab9e-959bcf88d5f0",
        "colab": {
          "base_uri": "https://localhost:8080/",
          "height": 602
        }
      },
      "source": [
        "label_id = np.argmax(label_batch, axis=-1)\n",
        "\n",
        "plt.figure(figsize=(10,9))\n",
        "plt.subplots_adjust(hspace=0.5)\n",
        "for n in range(30):\n",
        "  plt.subplot(6,5,n+1)\n",
        "  plt.imshow(image_batch[n])\n",
        "  color = \"green\" if predicted_id[n] == label_id[n] else \"red\"\n",
        "  plt.title(predicted_label_batch[n].title(), color=color)\n",
        "  plt.axis('off')\n",
        "_ = plt.suptitle(\"Model predictions (green: correct, red: incorrect)\")\n"
      ],
      "execution_count": 0,
      "outputs": [
        {
          "output_type": "display_data",
          "data": {
            "image/png": "[encoded data removed]",
            "text/plain": [
              "<Figure size 720x648 with 30 Axes>"
            ]
          },
          "metadata": {
            "tags": []
          }
        }
      ]
    },
    {
      "cell_type": "markdown",
      "metadata": {
        "id": "Tju-OD1rdg8y",
        "colab_type": "text"
      },
      "source": [
        "## Visualizar previsões sobre conjunto de validação"
      ]
    },
    {
      "cell_type": "code",
      "metadata": {
        "id": "8QubFxl2c32G",
        "colab_type": "code",
        "outputId": "c5f949bd-b111-4ea8-fee4-562f4f9d3157",
        "colab": {
          "base_uri": "https://localhost:8080/",
          "height": 191
        }
      },
      "source": [
        "class_names = sorted(image_validation.class_indices.items(), key=lambda pair:pair[1])\n",
        "class_names = np.array([key.title() for key, value in class_names])\n",
        "class_names"
      ],
      "execution_count": 0,
      "outputs": [
        {
          "output_type": "execute_result",
          "data": {
            "text/plain": [
              "array(['0', '1', '2', '3', '4', '5', '6', '7', '8', '9', 'Lower_A',\n",
              "       'Lower_B', 'Lower_C', 'Lower_D', 'Lower_E', 'Lower_F', 'Lower_G',\n",
              "       'Lower_H', 'Lower_I', 'Lower_J', 'Lower_K', 'Lower_L', 'Lower_M',\n",
              "       'Lower_N', 'Lower_O', 'Lower_P', 'Lower_Q', 'Lower_R', 'Lower_S',\n",
              "       'Lower_T', 'Lower_U', 'Lower_V', 'Lower_W', 'Lower_X', 'Lower_Y',\n",
              "       'Lower_Z', 'Upper_A', 'Upper_B', 'Upper_C', 'Upper_D', 'Upper_E',\n",
              "       'Upper_F', 'Upper_G', 'Upper_H', 'Upper_I', 'Upper_J', 'Upper_K',\n",
              "       'Upper_L', 'Upper_M', 'Upper_N', 'Upper_O', 'Upper_P', 'Upper_Q',\n",
              "       'Upper_R', 'Upper_S', 'Upper_T', 'Upper_U', 'Upper_V', 'Upper_W',\n",
              "       'Upper_X', 'Upper_Y', 'Upper_Z'], dtype='<U7')"
            ]
          },
          "metadata": {
            "tags": []
          },
          "execution_count": 28
        }
      ]
    },
    {
      "cell_type": "code",
      "metadata": {
        "id": "ggd8ycuUdKMq",
        "colab_type": "code",
        "outputId": "d1fcbf60-6473-4399-fe86-e14d3e721edd",
        "colab": {
          "base_uri": "https://localhost:8080/",
          "height": 52
        }
      },
      "source": [
        "for image_batch, label_batch in image_validation:\n",
        "  print(\"Image batch shape: \", image_batch.shape)\n",
        "  print(\"Label batch shape: \", label_batch.shape)\n",
        "  break"
      ],
      "execution_count": 0,
      "outputs": [
        {
          "output_type": "stream",
          "text": [
            "Image batch shape:  (32, 224, 224, 3)\n",
            "Label batch shape:  (32, 62)\n"
          ],
          "name": "stdout"
        }
      ]
    },
    {
      "cell_type": "code",
      "metadata": {
        "id": "j14_Ggzsc_Xh",
        "colab_type": "code",
        "colab": {}
      },
      "source": [
        "predicted_batch = model.predict(image_batch)\n",
        "predicted_id = np.argmax(predicted_batch, axis=-1)\n",
        "predicted_label_batch = class_names[predicted_id]"
      ],
      "execution_count": 0,
      "outputs": []
    },
    {
      "cell_type": "code",
      "metadata": {
        "id": "AqbdQ4qzdQDa",
        "colab_type": "code",
        "outputId": "e2d27629-f8dd-44a3-c79c-116e9d88f3e9",
        "colab": {
          "base_uri": "https://localhost:8080/",
          "height": 602
        }
      },
      "source": [
        "label_id = np.argmax(label_batch, axis=-1)\n",
        "\n",
        "plt.figure(figsize=(10,9))\n",
        "plt.subplots_adjust(hspace=0.5)\n",
        "for n in range(30):\n",
        "  plt.subplot(6,5,n+1)\n",
        "  plt.imshow(image_batch[n])\n",
        "  color = \"green\" if predicted_id[n] == label_id[n] else \"red\"\n",
        "  plt.title(predicted_label_batch[n].title(), color=color)\n",
        "  plt.axis('off')\n",
        "_ = plt.suptitle(\"Model predictions (green: correct, red: incorrect)\")\n"
      ],
      "execution_count": 0,
      "outputs": [
        {
          "output_type": "display_data",
          "data": {
            "image/png": "[encoded data removed]",
            "text/plain": [
              "<Figure size 720x648 with 30 Axes>"
            ]
          },
          "metadata": {
            "tags": []
          }
        }
      ]
    }
  ]
}